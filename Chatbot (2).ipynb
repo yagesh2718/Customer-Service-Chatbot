{
  "nbformat": 4,
  "nbformat_minor": 0,
  "metadata": {
    "colab": {
      "provenance": []
    },
    "kernelspec": {
      "name": "python3",
      "display_name": "Python 3"
    },
    "language_info": {
      "name": "python"
    }
  },
  "cells": [
    {
      "cell_type": "code",
      "source": [
        "# Installing dependencies\n",
        "!pip install nltk scikit-learn --quiet\n",
        "\n",
        "# Importing libraries\n",
        "import nltk\n",
        "import numpy as np\n",
        "from sklearn.feature_extraction.text import TfidfVectorizer\n",
        "from sklearn.metrics.pairwise import cosine_similarity\n",
        "from nltk.corpus import stopwords\n",
        "\n",
        "nltk.download('punkt')\n",
        "nltk.download('stopwords')\n",
        "\n",
        "# Chatbot knowledge base\n",
        "faq = {\n",
        "    \"what are your hours\": \"Our business hours are 9 AM to 6 PM, Monday to Saturday.\",\n",
        "    \"how can i track my order\": \"You can track your order using the tracking link sent to your email or SMS.\",\n",
        "    \"what is your return policy\": \"You can return products within 30 days of delivery with original packaging.\",\n",
        "    \"do you offer refunds\": \"Yes, we offer full refunds within the return window after inspection.\",\n",
        "    \"how can i contact support\": \"You can email us at support@example.com or call 1800-123-456.\",\n",
        "    \"thank you\": \"You're welcome! Is there anything else I can help with?\",\n",
        "    \"hi\": \"Hello! How can I assist you today?\",\n",
        "    \"hello\": \"Hi there! What can I help you with?\",\n",
        "    \"bye\": \"Goodbye! Have a great day!\",\n",
        "    \"do you have cash on delivery\": \"Yes, we offer Cash on Delivery for most locations.\",\n",
        "    \"how do i cancel my order\": \"To cancel, go to 'My Orders' > select the item > click 'Cancel'.\",\n",
        "    \"how do i change my address\": \"Go to 'My Profile' > 'Addresses' to edit your shipping address.\",\n",
        "    \"do you ship internationally\": \"Currently, we ship only within India.\",\n",
        "    \"how do i reset my password\": \"Click on 'Forgot Password' on the login page to reset your password.\",\n",
        "    \"do you sell gift cards\": \"Yes, we offer digital gift cards. You can buy them from our gift store.\",\n",
        "    \"how long does delivery take\": \"Delivery usually takes 3-5 business days, depending on your location.\",\n",
        "    \"do you have same day delivery\": \"Yes, in select cities. Check availability at checkout.\",\n",
        "    \"do you provide installation\": \"Yes, we provide installation services for eligible products.\",\n",
        "    \"what payment methods do you accept\": \"We accept credit/debit cards, net banking, UPI, and wallets.\",\n",
        "    \"how do i apply a coupon\": \"Apply your coupon code at the checkout page before payment.\",\n",
        "    \"why was my payment declined\": \"Payment can fail due to invalid card, insufficient funds, or server issues.\",\n",
        "    \"can i modify my order\": \"You can modify your order within 1 hour of placing it.\",\n",
        "    \"can i return only part of my order\": \"Yes, partial returns are allowed for eligible items.\",\n",
        "    \"how do i know if my return is approved\": \"You will receive a confirmation email once your return is approved.\",\n",
        "    \"what if my product is damaged\": \"Please contact support with pictures of the damaged product.\",\n",
        "    \"how do i update my profile\": \"Go to 'My Account' and click on 'Edit Profile'.\",\n",
        "    \"can i pre-order items\": \"Yes, pre-order is available for select upcoming items.\",\n",
        "    \"how to unsubscribe from emails\": \"Click 'Unsubscribe' at the bottom of any email.\",\n",
        "    \"do you have mobile app\": \"Yes, our app is available on both Android and iOS platforms.\",\n",
        "    \"can i pick up my order in store\": \"Yes, choose 'Store Pickup' at checkout if available in your area.\",\n",
        "    \"where is the nearest store\": \"Use our store locator at example.com/stores.\",\n",
        "    \"is gst invoice available\": \"Yes, GST invoices are provided automatically upon purchase.\",\n",
        "    \"what if i missed the delivery\": \"Our delivery team will reattempt delivery within 48 hours.\",\n",
        "    \"how do i leave a review\": \"Go to the product page and click on 'Write a Review'.\",\n",
        "    \"what is the warranty on products\": \"Most products come with 1-year manufacturer warranty.\",\n",
        "    \"how to redeem loyalty points\": \"Use loyalty points at checkout under 'Redeem Rewards'.\",\n",
        "    \"do you offer EMI options\": \"Yes, EMI is available on orders above ₹3000 via eligible cards.\",\n",
        "    \"do you offer student discount\": \"Currently, we do not offer a student discount.\",\n",
        "    \"how secure is my payment info\": \"All transactions are encrypted and 100% secure.\",\n",
        "    \"is my data safe\": \"Yes, we follow strict data privacy and security standards.\",\n",
        "    \"how can i speak to a real agent\": \"Call us at 1800-123-456 or use the live chat option on the website.\",\n",
        "    \"can i change delivery date\": \"Delivery date changes are possible by contacting support within 24 hours of ordering.\",\n",
        "    \"do you ship to pincode 560001\": \"Yes, we deliver to most pin codes across India. Please enter your pincode at checkout.\",\n",
        "    \"how to get invoice\": \"You can download your invoice from the 'My Orders' section after delivery.\",\n",
        "    \"how do i use a referral code\": \"Enter the referral code during signup or at checkout to get rewards.\"\n",
        "}\n",
        "\n",
        "# Preprocessing\n",
        "def preprocess(text):\n",
        "    text = text.lower()\n",
        "    words = text.split()\n",
        "    return \" \".join([w for w in words if w.isalnum() and w not in stopwords.words('english')])\n",
        "\n",
        "corpus = list(faq.keys())\n",
        "responses = list(faq.values())\n",
        "corpus_clean = [preprocess(q) for q in corpus]\n",
        "\n",
        "vectorizer = TfidfVectorizer()\n",
        "X = vectorizer.fit_transform(corpus_clean)\n",
        "\n",
        "# Response logic\n",
        "def get_bot_response(user_input):\n",
        "    user_clean = preprocess(user_input)\n",
        "    user_vec = vectorizer.transform([user_clean])\n",
        "    scores = cosine_similarity(user_vec, X)\n",
        "    max_idx = np.argmax(scores)\n",
        "    confidence = scores[0][max_idx]\n",
        "\n",
        "    if confidence > 0.3:\n",
        "        return responses[max_idx]\n",
        "    else:\n",
        "        return \"I'm sorry, I didn't understand that. Can you rephrase?\"\n",
        "\n",
        "# Simple command-line style chatbot loop\n",
        "print(\"🤖 Bot: Hello! I am your support assistant. Type 'exit' to quit.\")\n",
        "while True:\n",
        "    user_input = input(\"You: \")\n",
        "    if user_input.lower() in ['exit', 'quit', 'bye']:\n",
        "        print(\"🤖 Bot: Goodbye! Have a great day.\")\n",
        "        break\n",
        "    response = get_bot_response(user_input)\n",
        "    print(\"🤖 Bot:\", response)\n"
      ],
      "metadata": {
        "colab": {
          "base_uri": "https://localhost:8080/"
        },
        "id": "Y-YpA0GBl0tp",
        "outputId": "a132ca62-4f86-4e23-f9e4-dc1a087e9964"
      },
      "execution_count": null,
      "outputs": [
        {
          "output_type": "stream",
          "name": "stderr",
          "text": [
            "[nltk_data] Downloading package punkt to /root/nltk_data...\n",
            "[nltk_data]   Package punkt is already up-to-date!\n",
            "[nltk_data] Downloading package stopwords to /root/nltk_data...\n",
            "[nltk_data]   Package stopwords is already up-to-date!\n"
          ]
        },
        {
          "output_type": "stream",
          "name": "stdout",
          "text": [
            "🤖 Bot: Hello! I am your support assistant. Type 'exit' to quit.\n",
            "You: hello\n",
            "🤖 Bot: Hi there! What can I help you with?\n",
            "You: How can I track my order?\n",
            "🤖 Bot: You can track your order using the tracking link sent to your email or SMS.\n",
            "You: Do you offer same day delivery\n",
            "🤖 Bot: Yes, in select cities. Check availability at checkout.\n",
            "You: What are your working hours\n",
            "🤖 Bot: Our business hours are 9 AM to 6 PM, Monday to Saturday.\n",
            "You: thank you\n",
            "🤖 Bot: You're welcome! Is there anything else I can help with?\n"
          ]
        }
      ]
    }
  ]
}